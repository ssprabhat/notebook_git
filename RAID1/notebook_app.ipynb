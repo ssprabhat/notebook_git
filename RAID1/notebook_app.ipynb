{
 "metadata": {
  "kernelspec": {
   "display_name": "Streamlit Notebook",
   "name": "streamlit"
  },
  "lastEditStatus": {
   "notebookId": "cvfyjgckmcahdiea47o5",
   "authorId": "7893425510341",
   "authorName": "SHIVANGI",
   "authorEmail": "shivangi.j.agarwal@kipi.bi",
   "sessionId": "5dde5d8f-6132-42c9-a012-abab5bbb21fb",
   "lastEditTime": 1736843062120
  }
 },
 "nbformat_minor": 5,
 "nbformat": 4,
 "cells": [
  {
   "cell_type": "code",
   "id": "3775908f-ca36-4846-8f38-5adca39217f2",
   "metadata": {
    "language": "python",
    "name": "cell1",
    "resultHeight": 0
   },
   "source": "# Import python packages\nimport streamlit as st\nimport pandas as pd\nimport pandas as pd\nimport numpy as np\n\n\nfrom snowflake.snowpark.context import get_active_session\nsession = get_active_session()",
   "execution_count": null,
   "outputs": []
  },
  {
   "cell_type": "code",
   "id": "c695373e-ac74-4b62-a1f1-08206cbd5c81",
   "metadata": {
    "language": "python",
    "name": "cell3",
    "codeCollapsed": false
   },
   "source": "raid_log = 'RAID_SHIELD_DB.INGESTION.RAID_LOG__C'\nuse_case = 'RAID_SHIELD_DB.INGESTION.USE_CASE__C'\naccount_name = 'LLM_PM_CORTEX.PUBLIC.ACCOUNTID2ACCOUNTNAME'",
   "execution_count": null,
   "outputs": []
  },
  {
   "cell_type": "code",
   "id": "a43ef683-157b-470b-ae04-449d3d39ad11",
   "metadata": {
    "language": "python",
    "name": "cell26",
    "codeCollapsed": false
   },
   "outputs": [],
   "source": "account_name = session.sql(f\"select * from {account_name}\")\naccount_name.show()",
   "execution_count": null
  },
  {
   "cell_type": "code",
   "id": "cd7c58bf-950a-43ce-95f6-23310ae15f14",
   "metadata": {
    "language": "python",
    "name": "cell4",
    "codeCollapsed": false
   },
   "outputs": [],
   "source": "df_raid_log = session.sql(f\"select * from {raid_log}\")\ndf_raid_log.show()",
   "execution_count": null
  },
  {
   "cell_type": "code",
   "id": "a638027a-e3b4-4203-918f-0373a9c20527",
   "metadata": {
    "language": "python",
    "name": "cell5",
    "codeCollapsed": false
   },
   "outputs": [],
   "source": "df_use_case = session.sql(f\"select * from {use_case}\")\ndf_use_case.show()",
   "execution_count": null
  },
  {
   "cell_type": "code",
   "id": "cc74e94b-4369-4b73-aab6-12baa298d2e1",
   "metadata": {
    "language": "python",
    "name": "cell8",
    "codeCollapsed": false
   },
   "outputs": [],
   "source": "df_raid_log = df_raid_log.to_pandas()\ndf_use_case = df_use_case.to_pandas()",
   "execution_count": null
  },
  {
   "cell_type": "code",
   "id": "ea71481b-7001-4ebb-b45a-210aaa71aff2",
   "metadata": {
    "language": "python",
    "name": "cell7",
    "codeCollapsed": false
   },
   "outputs": [],
   "source": "df_raid_log.columns",
   "execution_count": null
  },
  {
   "cell_type": "code",
   "id": "8dace75c-5ef1-431b-ab63-ee0245cba295",
   "metadata": {
    "language": "python",
    "name": "cell2",
    "codeCollapsed": false
   },
   "outputs": [],
   "source": "df_raid_log.rename(columns={'ID': 'RAID_ID', 'NAME': 'RAID_NAME'}, inplace=True)",
   "execution_count": null
  },
  {
   "cell_type": "code",
   "id": "8e0d04d1-1eda-4600-9e37-9619d4693698",
   "metadata": {
    "language": "python",
    "name": "cell43",
    "codeCollapsed": false
   },
   "outputs": [],
   "source": "df_use_case.rename(columns={'ID': 'USECASE_ID', 'NAME': 'USECASE_NAME'}, inplace=True)",
   "execution_count": null
  },
  {
   "cell_type": "code",
   "id": "404d101e-4005-49be-9053-5b25aec1ceef",
   "metadata": {
    "language": "python",
    "name": "cell41",
    "codeCollapsed": false
   },
   "outputs": [],
   "source": "df_use_case = df_use_case[['PROJECT__C','SOLUTION_ARCHITECTURE__C','INDUSTRY__C','FLOW_OF_EVENTS__C','DESCRIPTION__C','USE_CASE_TYPE__C','MARKET_SE__C','SOURCE__C','USECASE_ID','USECASE_NAME']]",
   "execution_count": null
  },
  {
   "cell_type": "code",
   "id": "f95f682d-21c0-4ec4-bcc7-631c0b801eaa",
   "metadata": {
    "language": "python",
    "name": "cell39",
    "codeCollapsed": false
   },
   "outputs": [],
   "source": "df_raid_log = df_raid_log[['RAID_ID','RAID_NAME','OWNER__C','STAGE__C','STATUS__C','ACCOUNT__C','PROJECT__C','PRIORITY__C','USE_CASE__C','KIPI_OWNER__C','RAID_CATEGORY__C','CLOSURE_REASON__C','RAID_MITIGATION__C','POTENTIAL_IMPACT__C','RAID_DESCRIPTION__C','MITIGATION_ACTION__C','RAID_OTHER_REMARKS__C']]",
   "execution_count": null
  },
  {
   "cell_type": "code",
   "id": "efcc96b1-8f1a-4c67-a19c-507874d37839",
   "metadata": {
    "language": "python",
    "name": "cell9",
    "codeCollapsed": false
   },
   "outputs": [],
   "source": "df_raid_log.columns",
   "execution_count": null
  },
  {
   "cell_type": "code",
   "id": "e8f9dbe3-139c-4361-b0be-ec9c2de9f4ec",
   "metadata": {
    "language": "python",
    "name": "cell15",
    "codeCollapsed": false
   },
   "outputs": [],
   "source": "df_raid_log = df_raid_log.dropna(subset=['PROJECT__C'])\ndf_raid_log = df_raid_log.fillna('Not Available')",
   "execution_count": null
  },
  {
   "cell_type": "code",
   "id": "2ce5f702-8d55-4449-8e2c-7bb64ea94d2e",
   "metadata": {
    "language": "python",
    "name": "cell16",
    "codeCollapsed": false
   },
   "outputs": [],
   "source": "df_use_case = df_use_case.dropna(subset=['PROJECT__C'])\ndf_use_case = df_use_case.fillna('Not Available')",
   "execution_count": null
  },
  {
   "cell_type": "code",
   "id": "4c211d17-e520-4d68-90f0-09fd6cff45cd",
   "metadata": {
    "language": "python",
    "name": "cell24",
    "codeCollapsed": false
   },
   "outputs": [],
   "source": "len(df_use_case[df_use_case['PROJECT__C']=='Not Available'])",
   "execution_count": null
  },
  {
   "cell_type": "code",
   "id": "c62db474-b882-485c-b3d4-4c2b9db615cc",
   "metadata": {
    "language": "python",
    "name": "cell30",
    "codeCollapsed": false
   },
   "outputs": [],
   "source": "len(df_raid_log[df_raid_log['PROJECT__C']=='Not Available'])",
   "execution_count": null
  },
  {
   "cell_type": "code",
   "id": "21a09328-668b-4f3c-914c-277cbbb40bf2",
   "metadata": {
    "language": "python",
    "name": "cell17",
    "codeCollapsed": false
   },
   "outputs": [],
   "source": "spark_raid = session.create_dataframe(df_raid_log)\nspark_raid.write.save_as_table('RAID_SHIELD_DB.INGESTION.RAID_LOG__Z', mode='overwrite')  ## save dataframe in snowflake database    'RAID_SHIELD_DB.INGESTION.MERGEDV1' ",
   "execution_count": null
  },
  {
   "cell_type": "code",
   "id": "625c375b-d297-4df1-9cbf-b66b89e7e94c",
   "metadata": {
    "language": "python",
    "name": "cell23",
    "codeCollapsed": false
   },
   "outputs": [],
   "source": "spark_use = session.create_dataframe(df_use_case)\nspark_use.write.save_as_table('RAID_SHIELD_DB.INGESTION.USECASE__Z', mode='overwrite')  ## save dataframe in snowflake database    'RAID_SHIELD_DB.INGESTION.MERGEDV1' ",
   "execution_count": null
  },
  {
   "cell_type": "code",
   "id": "ad3b66ed-2400-4713-a86d-69bcd1ca1d9f",
   "metadata": {
    "language": "python",
    "name": "cell38",
    "codeCollapsed": false
   },
   "outputs": [],
   "source": "len(df_use_case)",
   "execution_count": null
  },
  {
   "cell_type": "code",
   "id": "33dc0bc4-9793-468e-b918-957e2a1987f6",
   "metadata": {
    "language": "python",
    "name": "cell40",
    "codeCollapsed": false
   },
   "outputs": [],
   "source": "len(df_raid_log)",
   "execution_count": null
  },
  {
   "cell_type": "code",
   "id": "174616df-afd3-48e1-ad18-4bd6f8dfa759",
   "metadata": {
    "language": "python",
    "name": "cell6",
    "codeCollapsed": false
   },
   "outputs": [],
   "source": "def merge(df1,df2,uniq_col1,uniq_col2):\n    df = df1.merge(df2, 'left', left_on=uniq_col1, right_on=uniq_col2)\n    \n    # Return value will appear in the Results tab.\n    return df",
   "execution_count": null
  },
  {
   "cell_type": "code",
   "id": "ecd822b8-daeb-4657-a9e2-62fad35a60a2",
   "metadata": {
    "language": "python",
    "name": "cell10",
    "codeCollapsed": false
   },
   "outputs": [],
   "source": "df_merged = merge(df_raid_log,df_use_case,'PROJECT__C','PROJECT__C')",
   "execution_count": null
  },
  {
   "cell_type": "code",
   "id": "0ac293d8-941c-464b-a84d-1db4cd69b4a5",
   "metadata": {
    "language": "python",
    "name": "cell27",
    "codeCollapsed": false
   },
   "outputs": [],
   "source": "account_name = account_name.to_pandas()\naccount_name.columns",
   "execution_count": null
  },
  {
   "cell_type": "code",
   "id": "3a291cfb-a2b5-467a-8844-cb95bf288be8",
   "metadata": {
    "language": "python",
    "name": "cell25",
    "codeCollapsed": false
   },
   "outputs": [],
   "source": "df_merged = merge(df_merged,account_name,'ACCOUNT__C','ACCOUNT_ID')",
   "execution_count": null
  },
  {
   "cell_type": "code",
   "id": "5f9930d7-7ef9-47ef-a717-4a0538b29de6",
   "metadata": {
    "language": "python",
    "name": "cell12",
    "codeCollapsed": false
   },
   "outputs": [],
   "source": "df_merged.head(10)",
   "execution_count": null
  },
  {
   "cell_type": "code",
   "id": "daca3cc2-a0af-4956-99ce-2a7d4475a987",
   "metadata": {
    "language": "python",
    "name": "cell28",
    "codeCollapsed": false
   },
   "outputs": [],
   "source": "df_merged = df_merged.drop(['ACCOUNT_ID'], axis=1)",
   "execution_count": null
  },
  {
   "cell_type": "code",
   "id": "069bf58e-8ae4-4659-a014-bae13e2d4f6d",
   "metadata": {
    "language": "python",
    "name": "cell14",
    "codeCollapsed": false
   },
   "outputs": [],
   "source": "df_merged.columns[26]",
   "execution_count": null
  },
  {
   "cell_type": "code",
   "id": "edb39a5b-57f6-4e79-a532-784f44afd735",
   "metadata": {
    "language": "python",
    "name": "cell33",
    "codeCollapsed": false
   },
   "outputs": [],
   "source": "colmn = {}\n\nfor i in list(df_merged.columns):\n    \n    colmn[i] = i.replace(\"__C\",\"\")",
   "execution_count": null
  },
  {
   "cell_type": "code",
   "id": "5d9ab84b-6235-4602-9590-63bd24971028",
   "metadata": {
    "language": "python",
    "name": "cell36",
    "codeCollapsed": false
   },
   "outputs": [],
   "source": "colmn",
   "execution_count": null
  },
  {
   "cell_type": "code",
   "id": "6b7169e9-9e5f-4396-9b96-4b26b81745db",
   "metadata": {
    "language": "python",
    "name": "cell32",
    "codeCollapsed": false
   },
   "outputs": [],
   "source": "df_merged.rename(columns=colmn, inplace=True)",
   "execution_count": null
  },
  {
   "cell_type": "code",
   "id": "938b7dc1-3baf-4189-af9a-a723e5e2e701",
   "metadata": {
    "language": "python",
    "name": "cell34",
    "codeCollapsed": false
   },
   "outputs": [],
   "source": "df_merged.columns",
   "execution_count": null
  },
  {
   "cell_type": "code",
   "id": "96dee0fa-552a-44a6-8a13-8822047ed9c7",
   "metadata": {
    "language": "python",
    "name": "cell35",
    "codeCollapsed": false
   },
   "outputs": [],
   "source": "spark_df = session.create_dataframe(df_merged)\nspark_df.write.save_as_table('RAID_SHIELD_DB.INGESTION.MERGEDV1', mode='overwrite')  ## save dataframe in snowflake database    'RAID_SHIELD_DB.INGESTION.MERGEDV1' ",
   "execution_count": null
  },
  {
   "cell_type": "code",
   "id": "726249e3-849d-4317-ae63-d1395e94cc1f",
   "metadata": {
    "language": "sql",
    "name": "cell11",
    "codeCollapsed": false
   },
   "outputs": [],
   "source": "ALTER TABLE RAID_SHIELD_DB.INGESTION.MERGEDV1 ADD COLUMN json_object STRING;",
   "execution_count": null
  },
  {
   "cell_type": "code",
   "id": "6aedd4ed-05d2-43fc-84f9-45de3cff8731",
   "metadata": {
    "language": "sql",
    "name": "cell13",
    "codeCollapsed": false
   },
   "outputs": [],
   "source": "-- Step 2: Update the new column with the JSON object\nUPDATE RAID_SHIELD_DB.INGESTION.MERGEDV1\nSET json_object = OBJECT_CONSTRUCT(\n    'RAID_ID', RAID_ID,\n    'RAID_NAME', RAID_NAME,\n    'OWNER', OWNER,\n    'STAGE', STAGE,\n    'STATUS', STATUS,\n    'ACCOUNT', ACCOUNT,\n    'PROJECT', PROJECT,\n    'PRIORITY', PRIORITY,\n    'USE_CASE', USE_CASE,\n    'KIPI_OWNER', KIPI_OWNER,\n    'RAID_CATEGORY', RAID_CATEGORY,\n    'CLOSURE_REASON', CLOSURE_REASON,\n    'RAID_MITIGATION',RAID_MITIGATION,\n    'POTENTIAL_IMPACT', POTENTIAL_IMPACT,\n    'RAID_DESCRIPTION', RAID_DESCRIPTION,\n    'MITIGATION_ACTION', MITIGATION_ACTION,\n    'RAID_OTHER_REMARKS', RAID_OTHER_REMARKS,\n    'SOLUTION_ARCHITECTURE', SOLUTION_ARCHITECTURE,\n    'INDUSTRY', INDUSTRY,\n    'FLOW_OF_EVENTS', FLOW_OF_EVENTS,\n    'DESCRIPTION' , DESCRIPTION,\n    'USE_CASE_TYPE',USE_CASE_TYPE,\n    'MARKET_SE',MARKET_SE,\n    'SOURCE', SOURCE,\n    'USECASE_ID' , USECASE_ID,\n    'USECASE_NAME',USECASE_NAME,\n    'ACCOUNT_NAME',ACCOUNT_NAME\n    \n  )::STRING;",
   "execution_count": null
  },
  {
   "cell_type": "code",
   "id": "162c16cf-c49c-4e68-8658-6a16341b0a93",
   "metadata": {
    "language": "sql",
    "name": "cell18",
    "codeCollapsed": false
   },
   "outputs": [],
   "source": "SELECT \n  OBJECT_CONSTRUCT(\n    'RAID_ID', RAID_ID,\n    'RAID_NAME', RAID_NAME,\n    'OWNER', OWNER,\n    'STAGE', STAGE,\n    'STATUS', STATUS,\n    'ACCOUNT', ACCOUNT,\n    'PROJECT', PROJECT,\n    'PRIORITY', PRIORITY,\n    'USE_CASE', USE_CASE,\n    'KIPI_OWNER', KIPI_OWNER,\n    'RAID_CATEGORY', RAID_CATEGORY,\n    'CLOSURE_REASON', CLOSURE_REASON,\n    'RAID_MITIGATION',RAID_MITIGATION,\n    'POTENTIAL_IMPACT', POTENTIAL_IMPACT,\n    'RAID_DESCRIPTION', RAID_DESCRIPTION,\n    'MITIGATION_ACTION', MITIGATION_ACTION,\n    'RAID_OTHER_REMARKS', RAID_OTHER_REMARKS,\n    'SOLUTION_ARCHITECTURE', SOLUTION_ARCHITECTURE,\n    'INDUSTRY', INDUSTRY,\n    'FLOW_OF_EVENTS', FLOW_OF_EVENTS,\n    'DESCRIPTION' , DESCRIPTION,\n    'USE_CASE_TYPE',USE_CASE_TYPE,\n    'MARKET_SE',MARKET_SE,\n    'SOURCE', SOURCE,\n    'USECASE_ID' , USECASE_ID,\n    'USECASE_NAME',USECASE_NAME,\n    'ACCOUNT_NAME',ACCOUNT_NAME\n  ) AS json_object\nFROM RAID_SHIELD_DB.INGESTION.MERGEDV1;",
   "execution_count": null
  },
  {
   "cell_type": "code",
   "id": "66ef3a79-79d7-4b40-a0ef-04eb26baa0fb",
   "metadata": {
    "language": "sql",
    "name": "cell19",
    "codeCollapsed": false
   },
   "outputs": [],
   "source": "ALTER TABLE RAID_SHIELD_DB.INGESTION.MERGEDV1 ADD COLUMN embedding VECTOR(FLOAT, 768);",
   "execution_count": null
  },
  {
   "cell_type": "code",
   "id": "9a8faa7a-e602-49bf-81ab-0c018084f6da",
   "metadata": {
    "language": "sql",
    "name": "cell20",
    "codeCollapsed": false
   },
   "outputs": [],
   "source": "UPDATE RAID_SHIELD_DB.INGESTION.MERGEDV1 SET embedding = snowflake.cortex.embed_text('e5-base-v2', json_object);",
   "execution_count": null
  },
  {
   "cell_type": "code",
   "id": "1e7c247b-0418-4b81-8552-f56651135bff",
   "metadata": {
    "language": "sql",
    "name": "cell21",
    "codeCollapsed": false
   },
   "outputs": [],
   "source": "SELECT * FROM RAID_SHIELD_DB.INGESTION.MERGEDV1;",
   "execution_count": null
  },
  {
   "cell_type": "code",
   "id": "aa62ba57-5865-4812-a140-b4202e6b59e8",
   "metadata": {
    "language": "sql",
    "name": "cell22",
    "codeCollapsed": false
   },
   "outputs": [],
   "source": "SELECT JSON_OBJECT FROM RAID_SHIELD_DB.INGESTION.MERGEDV1;",
   "execution_count": null
  },
  {
   "cell_type": "markdown",
   "id": "3e846689-871e-449a-bbd8-20112ac41bd6",
   "metadata": {
    "name": "cell48",
    "collapsed": false,
    "resultHeight": 60
   },
   "source": "## Shivangi work starts here \n"
  },
  {
   "cell_type": "code",
   "id": "206a98d0-d3c1-4109-9d3c-894c2ae6bf21",
   "metadata": {
    "language": "python",
    "name": "cell29",
    "resultHeight": 334
   },
   "outputs": [],
   "source": "df = session.sql(f\"select * from RAID_SHIELD_DB.INGESTION.MERGEDV1\")\ndf.show()",
   "execution_count": null
  },
  {
   "cell_type": "code",
   "id": "97fa907d-5217-4c50-ae30-e377262ae405",
   "metadata": {
    "language": "python",
    "name": "cell47",
    "resultHeight": 0
   },
   "outputs": [],
   "source": "df= df.drop_duplicates()",
   "execution_count": null
  },
  {
   "cell_type": "code",
   "id": "9fa06beb-156f-45c8-8db2-8b316868be84",
   "metadata": {
    "language": "python",
    "name": "cell42",
    "collapsed": false,
    "resultHeight": 0
   },
   "outputs": [],
   "source": "#modified_query ='Give me possible raid for migration from SQL server to snowflake'\nmodified_query ='Our team is integrating Snowflake with an ETL tool. What RAIDs could arise during the integration'",
   "execution_count": null
  },
  {
   "cell_type": "code",
   "id": "1f0386ac-8d23-423f-9ac1-0ccf5ee05b99",
   "metadata": {
    "language": "python",
    "name": "cell37",
    "collapsed": false,
    "resultHeight": 43
   },
   "outputs": [],
   "source": "context = session.sql(f\"\"\"\n                            (SELECT LISTAGG(JSON_OBJECT , ', ') WITHIN GROUP (ORDER BY JSON_OBJECT) AS context\n                                from\n                            (  SELECT JSON_OBJECT  FROM RAID_SHIELD_DB.INGESTION.MERGEDV1 \n                                ORDER BY vector_l2_distance(\n                                snowflake.cortex.embed_text('e5-base-v2', \n                                '{modified_query}'\n                                ), EMBEDDING\n                                ) LIMIT 30))\n                            \"\"\").collect()[0][0]\n   \n    \nprint(context)",
   "execution_count": null
  },
  {
   "cell_type": "code",
   "id": "75959979-0e86-4180-973f-15a399c297df",
   "metadata": {
    "language": "python",
    "name": "cell31",
    "resultHeight": 0,
    "collapsed": false
   },
   "outputs": [],
   "source": "import json\ncontext_data = json.loads(f\"[{context}]\")  # Convert the aggregated JSON string to a Python list of dictionaries\n\n# Step 2: Convert to Pandas DataFrame\ncontext_df = pd.DataFrame(context_data)",
   "execution_count": null
  },
  {
   "cell_type": "code",
   "id": "556a3555-a95d-4754-98c3-13a2abc5020d",
   "metadata": {
    "language": "python",
    "name": "cell44",
    "resultHeight": 438,
    "collapsed": false
   },
   "outputs": [],
   "source": "context_df.head(30)",
   "execution_count": null
  },
  {
   "cell_type": "code",
   "id": "f44785e1-21e2-4083-acc1-8d86878e82d5",
   "metadata": {
    "language": "python",
    "name": "cell46",
    "resultHeight": 320
   },
   "outputs": [],
   "source": "# Identify the first occurrence of each category\ndesired_order = ['Risk', 'Assumption', 'Issue', 'Dependency']\n\n# Create a categorical column with the desired order\ncontext_df['RAID_CATEGORY'] = pd.Categorical(context_df['RAID_CATEGORY'], categories=desired_order, ordered=True)\n\n# Sort the DataFrame by the categorical order\nsorted_df = context_df.sort_values(by='RAID_CATEGORY')\nfirst_occurrences = context_df.groupby('RAID_CATEGORY', as_index=False).first()\n\n# Display the resulting DataFrame\nfirst_occurrences.head()",
   "execution_count": null
  },
  {
   "cell_type": "code",
   "id": "4c3595fd-14ea-4d92-b805-2df954c58fc4",
   "metadata": {
    "language": "python",
    "name": "cell45",
    "resultHeight": 216
   },
   "outputs": [],
   "source": "session.write_pandas(first_occurrences, table_name=\"RAID_SHIELD_DB.INGESTION.SIMILARITY_MATCH_RESULTS\", overwrite=True)",
   "execution_count": null
  }
 ]
}